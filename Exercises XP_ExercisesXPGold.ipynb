{
  "nbformat": 4,
  "nbformat_minor": 0,
  "metadata": {
    "colab": {
      "provenance": [],
      "authorship_tag": "ABX9TyNL/A3zd4cN8lybTooLlMNs",
      "include_colab_link": true
    },
    "kernelspec": {
      "name": "python3",
      "display_name": "Python 3"
    },
    "language_info": {
      "name": "python"
    }
  },
  "cells": [
    {
      "cell_type": "markdown",
      "metadata": {
        "id": "view-in-github",
        "colab_type": "text"
      },
      "source": [
        "<a href=\"https://colab.research.google.com/github/IngerMasha/week7_day4/blob/main/ExercisesXPGold.ipynb\" target=\"_parent\"><img src=\"https://colab.research.google.com/assets/colab-badge.svg\" alt=\"Open In Colab\"/></a>"
      ]
    },
    {
      "cell_type": "markdown",
      "source": [
        "Exercises XP"
      ],
      "metadata": {
        "id": "VRcFv6UJcqKE"
      }
    },
    {
      "cell_type": "code",
      "execution_count": 5,
      "metadata": {
        "colab": {
          "base_uri": "https://localhost:8080/"
        },
        "id": "2aRUagaNXdWJ",
        "outputId": "6a22e55c-3040-49bc-e70a-0c156b9a97a2"
      },
      "outputs": [
        {
          "output_type": "stream",
          "name": "stdout",
          "text": [
            "First few rows of the dataset:\n",
            "   PassengerId  Survived  Pclass  \\\n",
            "0          892         0       3   \n",
            "1          893         1       3   \n",
            "2          894         0       2   \n",
            "3          895         0       3   \n",
            "4          896         1       3   \n",
            "\n",
            "                                           Name     Sex   Age  SibSp  Parch  \\\n",
            "0                              Kelly, Mr. James    male  34.5      0      0   \n",
            "1              Wilkes, Mrs. James (Ellen Needs)  female  47.0      1      0   \n",
            "2                     Myles, Mr. Thomas Francis    male  62.0      0      0   \n",
            "3                              Wirz, Mr. Albert    male  27.0      0      0   \n",
            "4  Hirvonen, Mrs. Alexander (Helga E Lindqvist)  female  22.0      1      1   \n",
            "\n",
            "    Ticket     Fare Cabin Embarked  \n",
            "0   330911   7.8292   NaN        Q  \n",
            "1   363272   7.0000   NaN        S  \n",
            "2   240276   9.6875   NaN        Q  \n",
            "3   315154   8.6625   NaN        S  \n",
            "4  3101298  12.2875   NaN        S  \n"
          ]
        }
      ],
      "source": [
        "import pandas as pd\n",
        "titanic_data = pd.read_csv('/content/tested.csv')\n",
        "print(\"First few rows of the dataset:\")\n",
        "print(titanic_data.head())"
      ]
    },
    {
      "cell_type": "code",
      "source": [
        "iris_data = pd.read_csv('/content/iris.csv')\n",
        "print(\"First few rows of the dataset:\")\n",
        "print(iris_data.head())"
      ],
      "metadata": {
        "colab": {
          "base_uri": "https://localhost:8080/"
        },
        "id": "TZ-3XXvoZ748",
        "outputId": "c3dd4cdf-053c-4997-9e52-0ec096864a7a"
      },
      "execution_count": null,
      "outputs": [
        {
          "output_type": "stream",
          "name": "stdout",
          "text": [
            "First few rows of the dataset:\n",
            "   sepal_length  sepal_width  petal_length  petal_width species\n",
            "0           5.1          3.5           1.4          0.2  setosa\n",
            "1           4.9          3.0           1.4          0.2  setosa\n",
            "2           4.7          3.2           1.3          0.2  setosa\n",
            "3           4.6          3.1           1.5          0.2  setosa\n",
            "4           5.0          3.6           1.4          0.2  setosa\n"
          ]
        }
      ]
    },
    {
      "cell_type": "code",
      "source": [
        "import requests\n",
        "url = 'https://jsonplaceholder.typicode.com/posts'\n",
        "response = requests.get(url)\n",
        "json_data = response.json()\n",
        "df = pd.DataFrame(json_data)\n",
        "print(df.head())\n"
      ],
      "metadata": {
        "colab": {
          "base_uri": "https://localhost:8080/"
        },
        "id": "WwZ3Uf4vaqC_",
        "outputId": "69685e04-6cca-4cc9-a212-7a6d5cd4b2e4"
      },
      "execution_count": null,
      "outputs": [
        {
          "output_type": "stream",
          "name": "stdout",
          "text": [
            "   userId  id                                              title  \\\n",
            "0       1   1  sunt aut facere repellat provident occaecati e...   \n",
            "1       1   2                                       qui est esse   \n",
            "2       1   3  ea molestias quasi exercitationem repellat qui...   \n",
            "3       1   4                               eum et est occaecati   \n",
            "4       1   5                                 nesciunt quas odio   \n",
            "\n",
            "                                                body  \n",
            "0  quia et suscipit\\nsuscipit recusandae consequu...  \n",
            "1  est rerum tempore vitae\\nsequi sint nihil repr...  \n",
            "2  et iusto sed quo iure\\nvoluptatem occaecati om...  \n",
            "3  ullam et saepe reiciendis voluptatem adipisci\\...  \n",
            "4  repudiandae veniam quaerat sunt sed\\nalias aut...  \n"
          ]
        }
      ]
    },
    {
      "cell_type": "code",
      "source": [
        "df = pd.read_excel('/content/file_example_XLS_10.xls')\n",
        "\n",
        "print(df.head())"
      ],
      "metadata": {
        "colab": {
          "base_uri": "https://localhost:8080/"
        },
        "id": "voyb_TCvbLri",
        "outputId": "6f6a74af-ad50-450a-84a5-88195db52965"
      },
      "execution_count": null,
      "outputs": [
        {
          "output_type": "stream",
          "name": "stdout",
          "text": [
            "   0 First Name  Last Name  Gender        Country  Age        Date    Id\n",
            "0  1      Dulce      Abril  Female  United States   32  15/10/2017  1562\n",
            "1  2       Mara  Hashimoto  Female  Great Britain   25  16/08/2016  1582\n",
            "2  3     Philip       Gent    Male         France   36  21/05/2015  2587\n",
            "3  4   Kathleen     Hanner  Female  United States   25  15/10/2017  3549\n",
            "4  5    Nereida    Magwood  Female  United States   58  16/08/2016  2468\n"
          ]
        }
      ]
    },
    {
      "cell_type": "code",
      "source": [
        "data = {\n",
        "    'Name': ['John', 'Anna', 'Peter', 'Linda'],\n",
        "    'Age': [28, 24, 35, 32],\n",
        "    'City': ['New York', 'Paris', 'Berlin', 'London']\n",
        "}\n",
        "df = pd.DataFrame(data)\n",
        "print(df)\n",
        "df.to_excel('output.xlsx', index=False)\n",
        "df.to_json('output.json', orient='records', lines=True)\n"
      ],
      "metadata": {
        "colab": {
          "base_uri": "https://localhost:8080/"
        },
        "id": "_QPnKBF_bVKb",
        "outputId": "a5ac8a62-f01e-428a-938a-dc65f1300fed"
      },
      "execution_count": 14,
      "outputs": [
        {
          "output_type": "stream",
          "name": "stdout",
          "text": [
            "    Name  Age      City\n",
            "0   John   28  New York\n",
            "1   Anna   24     Paris\n",
            "2  Peter   35    Berlin\n",
            "3  Linda   32    London\n"
          ]
        }
      ]
    },
    {
      "cell_type": "markdown",
      "source": [
        "**Exercises XP Gold**"
      ],
      "metadata": {
        "id": "IV0EPm3zcyBz"
      }
    },
    {
      "cell_type": "markdown",
      "source": [
        "Exercise 1 : Export A Dataframe To JSON With Orient (Easy)"
      ],
      "metadata": {
        "id": "2vMgFLxLde5f"
      }
    },
    {
      "cell_type": "code",
      "source": [
        "data = {\n",
        "    'UserID': range(1, 11),\n",
        "    'Name': ['Alice', 'Bob', 'Charlie', 'David', 'Emma',\n",
        "             'Frank', 'Grace', 'Hannah', 'Ian', 'Jane'],\n",
        "    'Age': [25, 30, 35, 40, 29, 34, 28, 31, 36, 33],\n",
        "    'City': ['New York', 'Los Angeles', 'Chicago', 'Houston', 'Phoenix',\n",
        "             'Philadelphia', 'San Antonio', 'San Diego', 'Dallas', 'San Jose']\n",
        "}\n",
        "df = pd.DataFrame(data)\n",
        "print(\"DataFrame:\")\n",
        "print(df)"
      ],
      "metadata": {
        "colab": {
          "base_uri": "https://localhost:8080/"
        },
        "id": "SfaZVbA1c38s",
        "outputId": "96642e7e-f149-4469-8196-9a901dee0390"
      },
      "execution_count": 15,
      "outputs": [
        {
          "output_type": "stream",
          "name": "stdout",
          "text": [
            "DataFrame:\n",
            "   UserID     Name  Age          City\n",
            "0       1    Alice   25      New York\n",
            "1       2      Bob   30   Los Angeles\n",
            "2       3  Charlie   35       Chicago\n",
            "3       4    David   40       Houston\n",
            "4       5     Emma   29       Phoenix\n",
            "5       6    Frank   34  Philadelphia\n",
            "6       7    Grace   28   San Antonio\n",
            "7       8   Hannah   31     San Diego\n",
            "8       9      Ian   36        Dallas\n",
            "9      10     Jane   33      San Jose\n"
          ]
        }
      ]
    },
    {
      "cell_type": "code",
      "source": [
        "df.to_json('data_records.json', orient='records', lines=True)\n",
        "df.to_json('data_index.json', orient='index')\n",
        "df.to_json('data_columns.json', orient='columns')\n",
        "df.to_json('data_values.json', orient='values')\n",
        "df.to_json('data_table.json', orient='table')"
      ],
      "metadata": {
        "id": "e0-cT4bAdAJO"
      },
      "execution_count": 16,
      "outputs": []
    },
    {
      "cell_type": "markdown",
      "source": [
        "Exercise 2: Export A Dataframe From Excel"
      ],
      "metadata": {
        "id": "FY6Gr7c-dr-U"
      }
    },
    {
      "cell_type": "code",
      "source": [
        "data = pd.DataFrame({\n",
        "    'Date': pd.date_range('20210101', periods=20),\n",
        "    'Product': ['Product A', 'Product B', 'Product C'] * 6 + ['Product A', 'Product B'],\n",
        "    'Quantity': [2, 3, 5, 7, 1] * 4,\n",
        "    'Revenue': [210.50, 340.60, 450.30, 120.10, 150.75] * 4\n",
        "})\n",
        "\n",
        "print(\"DataFrame:\")\n",
        "print(data)"
      ],
      "metadata": {
        "colab": {
          "base_uri": "https://localhost:8080/"
        },
        "id": "5A8cZbmmdZOB",
        "outputId": "fc038af3-0f3d-4520-d278-018a58c2cbdb"
      },
      "execution_count": 17,
      "outputs": [
        {
          "output_type": "stream",
          "name": "stdout",
          "text": [
            "DataFrame:\n",
            "         Date    Product  Quantity  Revenue\n",
            "0  2021-01-01  Product A         2   210.50\n",
            "1  2021-01-02  Product B         3   340.60\n",
            "2  2021-01-03  Product C         5   450.30\n",
            "3  2021-01-04  Product A         7   120.10\n",
            "4  2021-01-05  Product B         1   150.75\n",
            "5  2021-01-06  Product C         2   210.50\n",
            "6  2021-01-07  Product A         3   340.60\n",
            "7  2021-01-08  Product B         5   450.30\n",
            "8  2021-01-09  Product C         7   120.10\n",
            "9  2021-01-10  Product A         1   150.75\n",
            "10 2021-01-11  Product B         2   210.50\n",
            "11 2021-01-12  Product C         3   340.60\n",
            "12 2021-01-13  Product A         5   450.30\n",
            "13 2021-01-14  Product B         7   120.10\n",
            "14 2021-01-15  Product C         1   150.75\n",
            "15 2021-01-16  Product A         2   210.50\n",
            "16 2021-01-17  Product B         3   340.60\n",
            "17 2021-01-18  Product C         5   450.30\n",
            "18 2021-01-19  Product A         7   120.10\n",
            "19 2021-01-20  Product B         1   150.75\n"
          ]
        }
      ]
    },
    {
      "cell_type": "code",
      "source": [
        "from openpyxl import Workbook\n",
        "from openpyxl.utils.dataframe import dataframe_to_rows\n",
        "from openpyxl.styles import Font, Alignment, NamedStyle\n",
        "wb = Workbook()\n",
        "ws = wb.active\n",
        "ws.title = \"Sales Data\"\n",
        "for r in dataframe_to_rows(data, index=False, header=True):\n",
        "    ws.append(r)"
      ],
      "metadata": {
        "id": "JjbzxtMDefkh"
      },
      "execution_count": 19,
      "outputs": []
    },
    {
      "cell_type": "code",
      "source": [
        "number_format = NamedStyle(name=\"number_format\")\n",
        "number_format.number_format = '#,##0.00'\n",
        "for cell in ws['C'][1:]:\n",
        "    cell.style = number_format\n",
        "for cell in ws['D'][1:]:\n",
        "    cell.style = number_format"
      ],
      "metadata": {
        "id": "14Gtajkhe2FR"
      },
      "execution_count": 20,
      "outputs": []
    },
    {
      "cell_type": "code",
      "source": [
        "header_font = Font(bold=True)\n",
        "header_alignment = Alignment(horizontal='center')\n",
        "for cell in ws[1]:\n",
        "    cell.font = header_font\n",
        "    cell.alignment = header_alignment\n"
      ],
      "metadata": {
        "id": "6lu5DjiWfAe-"
      },
      "execution_count": null,
      "outputs": []
    },
    {
      "cell_type": "code",
      "source": [
        "for column in ws.columns:\n",
        "    max_length = 0\n",
        "    column = list(column)\n",
        "    for cell in column:\n",
        "        try:\n",
        "            if len(str(cell.value)) > max_length:\n",
        "                max_length = len(cell.value)\n",
        "        except:\n",
        "            pass\n",
        "    adjusted_width = (max_length + 2)\n",
        "    ws.column_dimensions[column[0].column_letter].width = adjusted_width\n"
      ],
      "metadata": {
        "id": "k6XCHjwdfFys"
      },
      "execution_count": 21,
      "outputs": []
    },
    {
      "cell_type": "code",
      "source": [
        "wb.save(\"sales_data.xlsx\")"
      ],
      "metadata": {
        "id": "O2gBYU_WfKhk"
      },
      "execution_count": 22,
      "outputs": []
    },
    {
      "cell_type": "markdown",
      "source": [
        "Exercise 3: Chunking Large Datasets"
      ],
      "metadata": {
        "id": "A4hbxMOAfuSq"
      }
    },
    {
      "cell_type": "code",
      "source": [
        "import pandas as pd\n",
        "\n",
        "input_file = 'lectures.csv'\n",
        "output_file = 'result.csv'\n",
        "chunksize = 1000\n",
        "first_chunk = True\n",
        "for chunk in pd.read_csv(input_file, chunksize=chunksize):\n",
        "    chunk_sum = chunk.sum(numeric_only=True)\n",
        "    result_df = pd.DataFrame(chunk_sum).transpose()\n",
        "    if first_chunk:\n",
        "        result_df.to_csv(output_file, mode='w', index=False)\n",
        "        first_chunk = False\n",
        "    else:\n",
        "        result_df.to_csv(output_file, mode='a', header=False, index=False)\n",
        "\n",
        "test = pd.read_csv('/content/result.csv')\n",
        "print(test.head())"
      ],
      "metadata": {
        "colab": {
          "base_uri": "https://localhost:8080/"
        },
        "id": "KzXVApjzftdD",
        "outputId": "f25b6a57-cf02-402d-bee8-fdf0c7c2306d"
      },
      "execution_count": 6,
      "outputs": [
        {
          "output_type": "stream",
          "name": "stdout",
          "text": [
            "First few rows of the dataset:\n",
            "   lecture_id    tag  part\n",
            "0     7099062  39493  1784\n"
          ]
        }
      ]
    },
    {
      "cell_type": "markdown",
      "source": [
        "Exercise 4: Using Efficient File Formats"
      ],
      "metadata": {
        "id": "aWlHeFjFZ7MN"
      }
    },
    {
      "cell_type": "markdown",
      "source": [
        "Exercise 4: Using Efficient File Formats\n",
        "Instructions\n",
        "Re-use the same large DataFrame in your Python environment from exercise 5.\n",
        "Export the DataFrame into a Parquet file.\n",
        "Note the difference in file size and read/write speeds compared to CSV format.\n",
        "Code Example:\n",
        "\n",
        "large_df.to_parquet('large_data.parquet')\n",
        "-"
      ],
      "metadata": {
        "id": "oUG7FlgNdno2"
      }
    },
    {
      "cell_type": "code",
      "source": [],
      "metadata": {
        "id": "UTAoXKD0ec2E"
      },
      "execution_count": null,
      "outputs": []
    },
    {
      "cell_type": "code",
      "source": [
        "import pandas as pd\n",
        "import time\n",
        "import os\n",
        "\n",
        "# input_file = 'lectures.csv'\n",
        "# input_file = '/content/example_sample_submission.csv'\n",
        "# input_file = '/content/example_test.csv'\n",
        "input_file = '/content/questions.csv'\n",
        "\n",
        "start_time = time.time()\n",
        "large_df = pd.read_csv(input_file)\n",
        "csv_read_time = time.time() - start_time\n",
        "print(f\"Loading time CSV: {csv_read_time:.2f} sec\")\n"
      ],
      "metadata": {
        "colab": {
          "base_uri": "https://localhost:8080/"
        },
        "id": "CTI2Qi6BeZKw",
        "outputId": "352c8590-a6e4-4b4c-e187-1218b059849f"
      },
      "execution_count": 5,
      "outputs": [
        {
          "output_type": "stream",
          "name": "stdout",
          "text": [
            "Время загрузки CSV: 0.02 секунд\n"
          ]
        }
      ]
    },
    {
      "cell_type": "code",
      "source": [
        "start_time = time.time()\n",
        "large_df.to_parquet('large_data.parquet')\n",
        "parquet_write_time = time.time() - start_time\n",
        "print(f\"Loading time в Parquet: {parquet_write_time:.2f} sec\")\n"
      ],
      "metadata": {
        "colab": {
          "base_uri": "https://localhost:8080/"
        },
        "id": "jwez4H4efAcm",
        "outputId": "3bbb9e28-9ce9-4861-98a1-cf457d2517b8"
      },
      "execution_count": 6,
      "outputs": [
        {
          "output_type": "stream",
          "name": "stdout",
          "text": [
            "Loading time в Parquet: 0.12 sec\n"
          ]
        }
      ]
    },
    {
      "cell_type": "code",
      "source": [
        "csv_size = os.path.getsize(input_file)\n",
        "parquet_size = os.path.getsize('large_data.parquet')\n",
        "\n",
        "print(f\"CSV file size: {csv_size / (1024 * 1024):.2f} МБ\")\n",
        "print(f\"Parquet file size: {parquet_size / (1024 * 1024):.2f} МБ\")\n"
      ],
      "metadata": {
        "colab": {
          "base_uri": "https://localhost:8080/"
        },
        "id": "G2_8tGgLfTmp",
        "outputId": "ad06c2f9-afd2-4445-e1fc-6d1ab206fc6d"
      },
      "execution_count": 7,
      "outputs": [
        {
          "output_type": "stream",
          "name": "stdout",
          "text": [
            "CSV file size: 0.28 МБ\n",
            "Parquet file size: 0.17 МБ\n"
          ]
        }
      ]
    }
  ]
}
